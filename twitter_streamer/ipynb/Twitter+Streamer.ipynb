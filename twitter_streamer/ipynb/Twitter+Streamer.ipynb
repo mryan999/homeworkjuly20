{
 "cells": [
  {
   "cell_type": "markdown",
   "metadata": {},
   "source": [
    "Use `pip` to install `twitter`."
   ]
  },
  {
   "cell_type": "code",
   "execution_count": 23,
   "metadata": {},
   "outputs": [],
   "source": [
    "!pip install twitter --quiet"
   ]
  },
  {
   "cell_type": "markdown",
   "metadata": {},
   "source": [
    "Import `TwitterStream` and `OAuth` from `twitter`."
   ]
  },
  {
   "cell_type": "code",
   "execution_count": 24,
   "metadata": {},
   "outputs": [],
   "source": [
    "from twitter import TwitterStream, OAuth"
   ]
  },
  {
   "cell_type": "markdown",
   "metadata": {},
   "source": [
    "### `oauth`"
   ]
  },
  {
   "cell_type": "markdown",
   "metadata": {},
   "source": [
    "Create a new object called `oauth` using `OAuth`. \n",
    "\n",
    "    OAuth(token, token_secret, consumer_key, consumer_secret)"
   ]
  },
  {
   "cell_type": "code",
   "execution_count": 25,
   "metadata": {},
   "outputs": [],
   "source": [
    "token = '136717606-vDTELnjeT6PUyPhSmz30CkXN7CzNVuFZWOM1bWbb'\n",
    "token_secret = '9A6N4TiC8Uw7fdRECq1obXwIfiZ0rUDxz5ncYpr2iIJo9'\n",
    "consumer_key = 'UfqtHNq7q7K7hYfA32Mk4zRo7'\n",
    "consumer_secret = 'bgPNdvBYZjryFwQlAM5IulTLR1lLGTaLcowebDA3BbFVBFeSg8'"
   ]
  },
  {
   "cell_type": "code",
   "execution_count": 26,
   "metadata": {},
   "outputs": [],
   "source": [
    "oauth = OAuth(token, token_secret, consumer_key, consumer_secret)"
   ]
  },
  {
   "cell_type": "markdown",
   "metadata": {},
   "source": [
    "Create a new object called `twitter_stream` using `TwitterStream`.\n",
    "\n",
    "Use the argument `auth=oauth` referencing the `oauth` object you just made."
   ]
  },
  {
   "cell_type": "markdown",
   "metadata": {},
   "source": [
    "### `twitter_stream`"
   ]
  },
  {
   "cell_type": "code",
   "execution_count": 27,
   "metadata": {},
   "outputs": [],
   "source": [
    "twitter_stream = TwitterStream(auth = oauth)"
   ]
  },
  {
   "cell_type": "markdown",
   "metadata": {},
   "source": [
    "### `bounding_box`"
   ]
  },
  {
   "cell_type": "markdown",
   "metadata": {},
   "source": [
    "Create a string called `bounding_box`. The string should contain the geo-coordinates of a bounding box separated by commas. These values are for Santa Monica:\n",
    "\n",
    "    -118.5137323688,34.0001996344,-118.4702449172,34.0331651696\n",
    "    \n",
    "You can make your own here: https://boundingbox.klokantech.com. Be sure to specify CSV RAW to get the values in this format.\n",
    "\n",
    "![](https://www.evernote.com/l/AAH3H9KGE6hD9JpPJPFncw09exRyoYSid5IB/image.png)"
   ]
  },
  {
   "cell_type": "code",
   "execution_count": 28,
   "metadata": {},
   "outputs": [],
   "source": [
    "bounding_box = '-118.553044133,34.1717329,-118.4081619204,34.2392544722'"
   ]
  },
  {
   "cell_type": "markdown",
   "metadata": {},
   "source": [
    "### `tweet_iterator`\n",
    "\n",
    "Create an object called `tweet_iterator`. \n",
    "\n",
    "1. Use `twitter_stream`.\n",
    "1. Apply `.statuses` to grab statuses.\n",
    "1. Apply a `.filter()` with the argument `locations=bounding_box`."
   ]
  },
  {
   "cell_type": "code",
   "execution_count": 35,
   "metadata": {},
   "outputs": [],
   "source": [
    "tweet_iterator = twitter_stream.statuses.filter(locations = bounding_box)"
   ]
  },
  {
   "cell_type": "markdown",
   "metadata": {},
   "source": [
    "Get the next value from the `tweet_iterator` and store it as the variable `this_tweet`."
   ]
  },
  {
   "cell_type": "code",
   "execution_count": 36,
   "metadata": {},
   "outputs": [],
   "source": [
    "this_tweet = next(tweet_iterator)"
   ]
  },
  {
   "cell_type": "markdown",
   "metadata": {},
   "source": [
    "\n",
    "What is the type of `this_tweet`?"
   ]
  },
  {
   "cell_type": "code",
   "execution_count": 37,
   "metadata": {},
   "outputs": [
    {
     "data": {
      "text/plain": [
       "twitter.api.TwitterDictResponse"
      ]
     },
     "execution_count": 37,
     "metadata": {},
     "output_type": "execute_result"
    }
   ],
   "source": [
    "type(this_tweet)"
   ]
  },
  {
   "cell_type": "markdown",
   "metadata": {},
   "source": [
    "Display the keys of `this_tweet`."
   ]
  },
  {
   "cell_type": "code",
   "execution_count": 38,
   "metadata": {},
   "outputs": [
    {
     "data": {
      "text/plain": [
       "dict_keys(['created_at', 'id', 'id_str', 'text', 'source', 'truncated', 'in_reply_to_status_id', 'in_reply_to_status_id_str', 'in_reply_to_user_id', 'in_reply_to_user_id_str', 'in_reply_to_screen_name', 'user', 'geo', 'coordinates', 'place', 'contributors', 'is_quote_status', 'quote_count', 'reply_count', 'retweet_count', 'favorite_count', 'entities', 'favorited', 'retweeted', 'possibly_sensitive', 'filter_level', 'lang', 'timestamp_ms'])"
      ]
     },
     "execution_count": 38,
     "metadata": {},
     "output_type": "execute_result"
    }
   ],
   "source": [
    "this_tweet.keys()"
   ]
  },
  {
   "cell_type": "markdown",
   "metadata": {},
   "source": [
    "Display the `text` and `user` of `this_tweet`."
   ]
  },
  {
   "cell_type": "code",
   "execution_count": 39,
   "metadata": {},
   "outputs": [
    {
     "data": {
      "text/plain": [
       "'Pre k-spa noms (@ Sun Ha Jang in Los Angeles, CA) https://t.co/EfHE8vTvpC'"
      ]
     },
     "execution_count": 39,
     "metadata": {},
     "output_type": "execute_result"
    }
   ],
   "source": [
    "this_tweet['text']"
   ]
  },
  {
   "cell_type": "code",
   "execution_count": 40,
   "metadata": {},
   "outputs": [
    {
     "data": {
      "text/plain": [
       "{'id': 26002770,\n",
       " 'id_str': '26002770',\n",
       " 'name': 'Veronica H',\n",
       " 'screen_name': 'ItsASmallGirl',\n",
       " 'location': 'Downtown Los Angeles, CA',\n",
       " 'url': 'http://www.facebook.com/vharrington1985',\n",
       " 'description': 'n/a',\n",
       " 'translator_type': 'none',\n",
       " 'protected': False,\n",
       " 'verified': False,\n",
       " 'followers_count': 716,\n",
       " 'friends_count': 1969,\n",
       " 'listed_count': 68,\n",
       " 'favourites_count': 7645,\n",
       " 'statuses_count': 16057,\n",
       " 'created_at': 'Mon Mar 23 13:46:39 +0000 2009',\n",
       " 'utc_offset': None,\n",
       " 'time_zone': None,\n",
       " 'geo_enabled': True,\n",
       " 'lang': 'en',\n",
       " 'contributors_enabled': False,\n",
       " 'is_translator': False,\n",
       " 'profile_background_color': '1A1B1F',\n",
       " 'profile_background_image_url': 'http://abs.twimg.com/images/themes/theme9/bg.gif',\n",
       " 'profile_background_image_url_https': 'https://abs.twimg.com/images/themes/theme9/bg.gif',\n",
       " 'profile_background_tile': False,\n",
       " 'profile_link_color': '2FC2EF',\n",
       " 'profile_sidebar_border_color': '181A1E',\n",
       " 'profile_sidebar_fill_color': '252429',\n",
       " 'profile_text_color': '666666',\n",
       " 'profile_use_background_image': True,\n",
       " 'profile_image_url': 'http://pbs.twimg.com/profile_images/983433825337290753/dQYo55ih_normal.jpg',\n",
       " 'profile_image_url_https': 'https://pbs.twimg.com/profile_images/983433825337290753/dQYo55ih_normal.jpg',\n",
       " 'profile_banner_url': 'https://pbs.twimg.com/profile_banners/26002770/1423062083',\n",
       " 'default_profile': False,\n",
       " 'default_profile_image': False,\n",
       " 'following': None,\n",
       " 'follow_request_sent': None,\n",
       " 'notifications': None}"
      ]
     },
     "execution_count": 40,
     "metadata": {},
     "output_type": "execute_result"
    }
   ],
   "source": [
    "this_tweet['user']"
   ]
  },
  {
   "cell_type": "markdown",
   "metadata": {},
   "source": [
    "## Collect Tweets\n",
    "\n",
    "Create an empty list called `tweets`.\n",
    "\n",
    "Use a `for`-loop to collect ten tweets and add them to this list."
   ]
  },
  {
   "cell_type": "code",
   "execution_count": 41,
   "metadata": {},
   "outputs": [],
   "source": [
    "tweets = []\n",
    "\n",
    "for i in range(10):\n",
    "    tweets.append(this_tweet)  \n",
    "    this_tweet = next(tweet_iterator)\n",
    "    "
   ]
  },
  {
   "cell_type": "markdown",
   "metadata": {},
   "source": [
    "Display `tweets` in a DataFrame."
   ]
  },
  {
   "cell_type": "code",
   "execution_count": 42,
   "metadata": {},
   "outputs": [
    {
     "data": {
      "text/html": [
       "<div>\n",
       "<style scoped>\n",
       "    .dataframe tbody tr th:only-of-type {\n",
       "        vertical-align: middle;\n",
       "    }\n",
       "\n",
       "    .dataframe tbody tr th {\n",
       "        vertical-align: top;\n",
       "    }\n",
       "\n",
       "    .dataframe thead th {\n",
       "        text-align: right;\n",
       "    }\n",
       "</style>\n",
       "<table border=\"1\" class=\"dataframe\">\n",
       "  <thead>\n",
       "    <tr style=\"text-align: right;\">\n",
       "      <th></th>\n",
       "      <th>contributors</th>\n",
       "      <th>coordinates</th>\n",
       "      <th>created_at</th>\n",
       "      <th>display_text_range</th>\n",
       "      <th>entities</th>\n",
       "      <th>favorite_count</th>\n",
       "      <th>favorited</th>\n",
       "      <th>filter_level</th>\n",
       "      <th>geo</th>\n",
       "      <th>id</th>\n",
       "      <th>...</th>\n",
       "      <th>quoted_status_id_str</th>\n",
       "      <th>quoted_status_permalink</th>\n",
       "      <th>reply_count</th>\n",
       "      <th>retweet_count</th>\n",
       "      <th>retweeted</th>\n",
       "      <th>source</th>\n",
       "      <th>text</th>\n",
       "      <th>timestamp_ms</th>\n",
       "      <th>truncated</th>\n",
       "      <th>user</th>\n",
       "    </tr>\n",
       "  </thead>\n",
       "  <tbody>\n",
       "    <tr>\n",
       "      <th>0</th>\n",
       "      <td>None</td>\n",
       "      <td>{'type': 'Point', 'coordinates': [-118.3216396...</td>\n",
       "      <td>Fri Jul 20 03:44:31 +0000 2018</td>\n",
       "      <td>NaN</td>\n",
       "      <td>{'hashtags': [], 'urls': [{'url': 'https://t.c...</td>\n",
       "      <td>0</td>\n",
       "      <td>False</td>\n",
       "      <td>low</td>\n",
       "      <td>{'type': 'Point', 'coordinates': [34.05396689,...</td>\n",
       "      <td>1020152447791181825</td>\n",
       "      <td>...</td>\n",
       "      <td>NaN</td>\n",
       "      <td>NaN</td>\n",
       "      <td>0</td>\n",
       "      <td>0</td>\n",
       "      <td>False</td>\n",
       "      <td>&lt;a href=\"http://foursquare.com\" rel=\"nofollow\"...</td>\n",
       "      <td>Pre k-spa noms (@ Sun Ha Jang in Los Angeles, ...</td>\n",
       "      <td>1532058271726</td>\n",
       "      <td>False</td>\n",
       "      <td>{'id': 26002770, 'id_str': '26002770', 'name':...</td>\n",
       "    </tr>\n",
       "    <tr>\n",
       "      <th>1</th>\n",
       "      <td>None</td>\n",
       "      <td>None</td>\n",
       "      <td>Fri Jul 20 03:44:31 +0000 2018</td>\n",
       "      <td>[8, 18]</td>\n",
       "      <td>{'hashtags': [], 'urls': [], 'user_mentions': ...</td>\n",
       "      <td>0</td>\n",
       "      <td>False</td>\n",
       "      <td>low</td>\n",
       "      <td>None</td>\n",
       "      <td>1020152448852230145</td>\n",
       "      <td>...</td>\n",
       "      <td>NaN</td>\n",
       "      <td>NaN</td>\n",
       "      <td>0</td>\n",
       "      <td>0</td>\n",
       "      <td>False</td>\n",
       "      <td>&lt;a href=\"http://twitter.com/download/iphone\" r...</td>\n",
       "      <td>@xyrael Very true.</td>\n",
       "      <td>1532058271979</td>\n",
       "      <td>False</td>\n",
       "      <td>{'id': 755067, 'id_str': '755067', 'name': '𝕊𝕥...</td>\n",
       "    </tr>\n",
       "    <tr>\n",
       "      <th>2</th>\n",
       "      <td>None</td>\n",
       "      <td>None</td>\n",
       "      <td>Fri Jul 20 03:44:32 +0000 2018</td>\n",
       "      <td>NaN</td>\n",
       "      <td>{'hashtags': [], 'urls': [], 'user_mentions': ...</td>\n",
       "      <td>0</td>\n",
       "      <td>False</td>\n",
       "      <td>low</td>\n",
       "      <td>None</td>\n",
       "      <td>1020152449825320961</td>\n",
       "      <td>...</td>\n",
       "      <td>1020141291483492352</td>\n",
       "      <td>{'url': 'https://t.co/frMW8wSqtf', 'expanded':...</td>\n",
       "      <td>0</td>\n",
       "      <td>0</td>\n",
       "      <td>False</td>\n",
       "      <td>&lt;a href=\"http://twitter.com/download/iphone\" r...</td>\n",
       "      <td>me on my first day of work:</td>\n",
       "      <td>1532058272211</td>\n",
       "      <td>False</td>\n",
       "      <td>{'id': 1293542006, 'id_str': '1293542006', 'na...</td>\n",
       "    </tr>\n",
       "    <tr>\n",
       "      <th>3</th>\n",
       "      <td>None</td>\n",
       "      <td>None</td>\n",
       "      <td>Fri Jul 20 03:44:32 +0000 2018</td>\n",
       "      <td>[15, 16]</td>\n",
       "      <td>{'hashtags': [], 'urls': [], 'user_mentions': ...</td>\n",
       "      <td>0</td>\n",
       "      <td>False</td>\n",
       "      <td>low</td>\n",
       "      <td>None</td>\n",
       "      <td>1020152450102116352</td>\n",
       "      <td>...</td>\n",
       "      <td>NaN</td>\n",
       "      <td>NaN</td>\n",
       "      <td>0</td>\n",
       "      <td>0</td>\n",
       "      <td>False</td>\n",
       "      <td>&lt;a href=\"http://twitter.com/download/iphone\" r...</td>\n",
       "      <td>@siierrra_sage 😐</td>\n",
       "      <td>1532058272277</td>\n",
       "      <td>False</td>\n",
       "      <td>{'id': 2396951738, 'id_str': '2396951738', 'na...</td>\n",
       "    </tr>\n",
       "    <tr>\n",
       "      <th>4</th>\n",
       "      <td>None</td>\n",
       "      <td>None</td>\n",
       "      <td>Fri Jul 20 03:44:34 +0000 2018</td>\n",
       "      <td>[16, 23]</td>\n",
       "      <td>{'hashtags': [], 'urls': [], 'user_mentions': ...</td>\n",
       "      <td>0</td>\n",
       "      <td>False</td>\n",
       "      <td>low</td>\n",
       "      <td>None</td>\n",
       "      <td>1020152460256555009</td>\n",
       "      <td>...</td>\n",
       "      <td>NaN</td>\n",
       "      <td>NaN</td>\n",
       "      <td>0</td>\n",
       "      <td>0</td>\n",
       "      <td>False</td>\n",
       "      <td>&lt;a href=\"http://twitter.com/download/iphone\" r...</td>\n",
       "      <td>@coturendbeyond Hey imy</td>\n",
       "      <td>1532058274698</td>\n",
       "      <td>False</td>\n",
       "      <td>{'id': 592030835, 'id_str': '592030835', 'name...</td>\n",
       "    </tr>\n",
       "    <tr>\n",
       "      <th>5</th>\n",
       "      <td>None</td>\n",
       "      <td>None</td>\n",
       "      <td>Fri Jul 20 03:44:35 +0000 2018</td>\n",
       "      <td>[25, 103]</td>\n",
       "      <td>{'hashtags': [], 'urls': [], 'user_mentions': ...</td>\n",
       "      <td>0</td>\n",
       "      <td>False</td>\n",
       "      <td>low</td>\n",
       "      <td>None</td>\n",
       "      <td>1020152462093660161</td>\n",
       "      <td>...</td>\n",
       "      <td>NaN</td>\n",
       "      <td>NaN</td>\n",
       "      <td>0</td>\n",
       "      <td>0</td>\n",
       "      <td>False</td>\n",
       "      <td>&lt;a href=\"http://twitter.com/download/android\" ...</td>\n",
       "      <td>@cmviks @webcamsla @ABC7 Dont listen to him. H...</td>\n",
       "      <td>1532058275136</td>\n",
       "      <td>False</td>\n",
       "      <td>{'id': 18236441, 'id_str': '18236441', 'name':...</td>\n",
       "    </tr>\n",
       "    <tr>\n",
       "      <th>6</th>\n",
       "      <td>None</td>\n",
       "      <td>None</td>\n",
       "      <td>Fri Jul 20 03:44:36 +0000 2018</td>\n",
       "      <td>NaN</td>\n",
       "      <td>{'hashtags': [], 'urls': [], 'user_mentions': ...</td>\n",
       "      <td>0</td>\n",
       "      <td>False</td>\n",
       "      <td>low</td>\n",
       "      <td>None</td>\n",
       "      <td>1020152466409631745</td>\n",
       "      <td>...</td>\n",
       "      <td>NaN</td>\n",
       "      <td>NaN</td>\n",
       "      <td>0</td>\n",
       "      <td>0</td>\n",
       "      <td>False</td>\n",
       "      <td>&lt;a href=\"http://twitter.com/download/iphone\" r...</td>\n",
       "      <td>Y’all really be hanging out with the same girl...</td>\n",
       "      <td>1532058276165</td>\n",
       "      <td>False</td>\n",
       "      <td>{'id': 2836102632, 'id_str': '2836102632', 'na...</td>\n",
       "    </tr>\n",
       "    <tr>\n",
       "      <th>7</th>\n",
       "      <td>None</td>\n",
       "      <td>None</td>\n",
       "      <td>Fri Jul 20 03:44:36 +0000 2018</td>\n",
       "      <td>NaN</td>\n",
       "      <td>{'hashtags': [], 'urls': [], 'user_mentions': ...</td>\n",
       "      <td>0</td>\n",
       "      <td>False</td>\n",
       "      <td>low</td>\n",
       "      <td>None</td>\n",
       "      <td>1020152467793764352</td>\n",
       "      <td>...</td>\n",
       "      <td>1020150467953750016</td>\n",
       "      <td>{'url': 'https://t.co/W5KPfKZ8Dt', 'expanded':...</td>\n",
       "      <td>0</td>\n",
       "      <td>0</td>\n",
       "      <td>False</td>\n",
       "      <td>&lt;a href=\"http://twitter.com/download/iphone\" r...</td>\n",
       "      <td>Day 37271 without sex</td>\n",
       "      <td>1532058276495</td>\n",
       "      <td>False</td>\n",
       "      <td>{'id': 110570972, 'id_str': '110570972', 'name...</td>\n",
       "    </tr>\n",
       "    <tr>\n",
       "      <th>8</th>\n",
       "      <td>None</td>\n",
       "      <td>None</td>\n",
       "      <td>Fri Jul 20 03:44:38 +0000 2018</td>\n",
       "      <td>NaN</td>\n",
       "      <td>{'hashtags': [], 'urls': [], 'user_mentions': ...</td>\n",
       "      <td>0</td>\n",
       "      <td>False</td>\n",
       "      <td>low</td>\n",
       "      <td>None</td>\n",
       "      <td>1020152475976839168</td>\n",
       "      <td>...</td>\n",
       "      <td>NaN</td>\n",
       "      <td>NaN</td>\n",
       "      <td>0</td>\n",
       "      <td>0</td>\n",
       "      <td>False</td>\n",
       "      <td>&lt;a href=\"http://twitter.com/download/iphone\" r...</td>\n",
       "      <td>bree* @breenana__ lol</td>\n",
       "      <td>1532058278446</td>\n",
       "      <td>False</td>\n",
       "      <td>{'id': 18570045, 'id_str': '18570045', 'name':...</td>\n",
       "    </tr>\n",
       "    <tr>\n",
       "      <th>9</th>\n",
       "      <td>None</td>\n",
       "      <td>None</td>\n",
       "      <td>Fri Jul 20 03:44:38 +0000 2018</td>\n",
       "      <td>NaN</td>\n",
       "      <td>{'hashtags': [], 'urls': [], 'user_mentions': ...</td>\n",
       "      <td>0</td>\n",
       "      <td>False</td>\n",
       "      <td>low</td>\n",
       "      <td>None</td>\n",
       "      <td>1020152477679726595</td>\n",
       "      <td>...</td>\n",
       "      <td>NaN</td>\n",
       "      <td>NaN</td>\n",
       "      <td>0</td>\n",
       "      <td>0</td>\n",
       "      <td>False</td>\n",
       "      <td>&lt;a href=\"http://twitter.com/download/iphone\" r...</td>\n",
       "      <td>4 day weekend 4 day weekend</td>\n",
       "      <td>1532058278852</td>\n",
       "      <td>False</td>\n",
       "      <td>{'id': 908900942, 'id_str': '908900942', 'name...</td>\n",
       "    </tr>\n",
       "  </tbody>\n",
       "</table>\n",
       "<p>10 rows × 33 columns</p>\n",
       "</div>"
      ],
      "text/plain": [
       "  contributors                                        coordinates  \\\n",
       "0         None  {'type': 'Point', 'coordinates': [-118.3216396...   \n",
       "1         None                                               None   \n",
       "2         None                                               None   \n",
       "3         None                                               None   \n",
       "4         None                                               None   \n",
       "5         None                                               None   \n",
       "6         None                                               None   \n",
       "7         None                                               None   \n",
       "8         None                                               None   \n",
       "9         None                                               None   \n",
       "\n",
       "                       created_at display_text_range  \\\n",
       "0  Fri Jul 20 03:44:31 +0000 2018                NaN   \n",
       "1  Fri Jul 20 03:44:31 +0000 2018            [8, 18]   \n",
       "2  Fri Jul 20 03:44:32 +0000 2018                NaN   \n",
       "3  Fri Jul 20 03:44:32 +0000 2018           [15, 16]   \n",
       "4  Fri Jul 20 03:44:34 +0000 2018           [16, 23]   \n",
       "5  Fri Jul 20 03:44:35 +0000 2018          [25, 103]   \n",
       "6  Fri Jul 20 03:44:36 +0000 2018                NaN   \n",
       "7  Fri Jul 20 03:44:36 +0000 2018                NaN   \n",
       "8  Fri Jul 20 03:44:38 +0000 2018                NaN   \n",
       "9  Fri Jul 20 03:44:38 +0000 2018                NaN   \n",
       "\n",
       "                                            entities  favorite_count  \\\n",
       "0  {'hashtags': [], 'urls': [{'url': 'https://t.c...               0   \n",
       "1  {'hashtags': [], 'urls': [], 'user_mentions': ...               0   \n",
       "2  {'hashtags': [], 'urls': [], 'user_mentions': ...               0   \n",
       "3  {'hashtags': [], 'urls': [], 'user_mentions': ...               0   \n",
       "4  {'hashtags': [], 'urls': [], 'user_mentions': ...               0   \n",
       "5  {'hashtags': [], 'urls': [], 'user_mentions': ...               0   \n",
       "6  {'hashtags': [], 'urls': [], 'user_mentions': ...               0   \n",
       "7  {'hashtags': [], 'urls': [], 'user_mentions': ...               0   \n",
       "8  {'hashtags': [], 'urls': [], 'user_mentions': ...               0   \n",
       "9  {'hashtags': [], 'urls': [], 'user_mentions': ...               0   \n",
       "\n",
       "   favorited filter_level                                                geo  \\\n",
       "0      False          low  {'type': 'Point', 'coordinates': [34.05396689,...   \n",
       "1      False          low                                               None   \n",
       "2      False          low                                               None   \n",
       "3      False          low                                               None   \n",
       "4      False          low                                               None   \n",
       "5      False          low                                               None   \n",
       "6      False          low                                               None   \n",
       "7      False          low                                               None   \n",
       "8      False          low                                               None   \n",
       "9      False          low                                               None   \n",
       "\n",
       "                    id                        ...                          \\\n",
       "0  1020152447791181825                        ...                           \n",
       "1  1020152448852230145                        ...                           \n",
       "2  1020152449825320961                        ...                           \n",
       "3  1020152450102116352                        ...                           \n",
       "4  1020152460256555009                        ...                           \n",
       "5  1020152462093660161                        ...                           \n",
       "6  1020152466409631745                        ...                           \n",
       "7  1020152467793764352                        ...                           \n",
       "8  1020152475976839168                        ...                           \n",
       "9  1020152477679726595                        ...                           \n",
       "\n",
       "  quoted_status_id_str                            quoted_status_permalink  \\\n",
       "0                  NaN                                                NaN   \n",
       "1                  NaN                                                NaN   \n",
       "2  1020141291483492352  {'url': 'https://t.co/frMW8wSqtf', 'expanded':...   \n",
       "3                  NaN                                                NaN   \n",
       "4                  NaN                                                NaN   \n",
       "5                  NaN                                                NaN   \n",
       "6                  NaN                                                NaN   \n",
       "7  1020150467953750016  {'url': 'https://t.co/W5KPfKZ8Dt', 'expanded':...   \n",
       "8                  NaN                                                NaN   \n",
       "9                  NaN                                                NaN   \n",
       "\n",
       "   reply_count retweet_count  retweeted  \\\n",
       "0            0             0      False   \n",
       "1            0             0      False   \n",
       "2            0             0      False   \n",
       "3            0             0      False   \n",
       "4            0             0      False   \n",
       "5            0             0      False   \n",
       "6            0             0      False   \n",
       "7            0             0      False   \n",
       "8            0             0      False   \n",
       "9            0             0      False   \n",
       "\n",
       "                                              source  \\\n",
       "0  <a href=\"http://foursquare.com\" rel=\"nofollow\"...   \n",
       "1  <a href=\"http://twitter.com/download/iphone\" r...   \n",
       "2  <a href=\"http://twitter.com/download/iphone\" r...   \n",
       "3  <a href=\"http://twitter.com/download/iphone\" r...   \n",
       "4  <a href=\"http://twitter.com/download/iphone\" r...   \n",
       "5  <a href=\"http://twitter.com/download/android\" ...   \n",
       "6  <a href=\"http://twitter.com/download/iphone\" r...   \n",
       "7  <a href=\"http://twitter.com/download/iphone\" r...   \n",
       "8  <a href=\"http://twitter.com/download/iphone\" r...   \n",
       "9  <a href=\"http://twitter.com/download/iphone\" r...   \n",
       "\n",
       "                                                text   timestamp_ms truncated  \\\n",
       "0  Pre k-spa noms (@ Sun Ha Jang in Los Angeles, ...  1532058271726     False   \n",
       "1                                 @xyrael Very true.  1532058271979     False   \n",
       "2                        me on my first day of work:  1532058272211     False   \n",
       "3                                   @siierrra_sage 😐  1532058272277     False   \n",
       "4                            @coturendbeyond Hey imy  1532058274698     False   \n",
       "5  @cmviks @webcamsla @ABC7 Dont listen to him. H...  1532058275136     False   \n",
       "6  Y’all really be hanging out with the same girl...  1532058276165     False   \n",
       "7                              Day 37271 without sex  1532058276495     False   \n",
       "8                              bree* @breenana__ lol  1532058278446     False   \n",
       "9                        4 day weekend 4 day weekend  1532058278852     False   \n",
       "\n",
       "                                                user  \n",
       "0  {'id': 26002770, 'id_str': '26002770', 'name':...  \n",
       "1  {'id': 755067, 'id_str': '755067', 'name': '𝕊𝕥...  \n",
       "2  {'id': 1293542006, 'id_str': '1293542006', 'na...  \n",
       "3  {'id': 2396951738, 'id_str': '2396951738', 'na...  \n",
       "4  {'id': 592030835, 'id_str': '592030835', 'name...  \n",
       "5  {'id': 18236441, 'id_str': '18236441', 'name':...  \n",
       "6  {'id': 2836102632, 'id_str': '2836102632', 'na...  \n",
       "7  {'id': 110570972, 'id_str': '110570972', 'name...  \n",
       "8  {'id': 18570045, 'id_str': '18570045', 'name':...  \n",
       "9  {'id': 908900942, 'id_str': '908900942', 'name...  \n",
       "\n",
       "[10 rows x 33 columns]"
      ]
     },
     "execution_count": 42,
     "metadata": {},
     "output_type": "execute_result"
    }
   ],
   "source": [
    "import pandas as pd\n",
    "import numpy as np\n",
    "\n",
    "tweet_df = pd.DataFrame(tweets)\n",
    "\n",
    "tweet_df"
   ]
  },
  {
   "cell_type": "markdown",
   "metadata": {},
   "source": [
    "Display just the test of the tweets using DataFrame."
   ]
  },
  {
   "cell_type": "code",
   "execution_count": 43,
   "metadata": {},
   "outputs": [
    {
     "data": {
      "text/plain": [
       "0    Pre k-spa noms (@ Sun Ha Jang in Los Angeles, ...\n",
       "1                                   @xyrael Very true.\n",
       "2                          me on my first day of work:\n",
       "3                                     @siierrra_sage 😐\n",
       "4                              @coturendbeyond Hey imy\n",
       "5    @cmviks @webcamsla @ABC7 Dont listen to him. H...\n",
       "6    Y’all really be hanging out with the same girl...\n",
       "7                                Day 37271 without sex\n",
       "8                                bree* @breenana__ lol\n",
       "9                          4 day weekend 4 day weekend\n",
       "Name: text, dtype: object"
      ]
     },
     "execution_count": 43,
     "metadata": {},
     "output_type": "execute_result"
    }
   ],
   "source": [
    "tweet_df['text']"
   ]
  },
  {
   "cell_type": "markdown",
   "metadata": {},
   "source": [
    "What is the type of `tweets`?"
   ]
  },
  {
   "cell_type": "code",
   "execution_count": 44,
   "metadata": {},
   "outputs": [
    {
     "data": {
      "text/plain": [
       "list"
      ]
     },
     "execution_count": 44,
     "metadata": {},
     "output_type": "execute_result"
    }
   ],
   "source": [
    "type(tweets)"
   ]
  },
  {
   "cell_type": "markdown",
   "metadata": {},
   "source": [
    "Write a list comprehension to display the type of each of the objects in `tweets`."
   ]
  },
  {
   "cell_type": "code",
   "execution_count": 45,
   "metadata": {},
   "outputs": [
    {
     "data": {
      "text/plain": [
       "[twitter.api.TwitterDictResponse,\n",
       " twitter.api.TwitterDictResponse,\n",
       " twitter.api.TwitterDictResponse,\n",
       " twitter.api.TwitterDictResponse,\n",
       " twitter.api.TwitterDictResponse,\n",
       " twitter.api.TwitterDictResponse,\n",
       " twitter.api.TwitterDictResponse,\n",
       " twitter.api.TwitterDictResponse,\n",
       " twitter.api.TwitterDictResponse,\n",
       " twitter.api.TwitterDictResponse]"
      ]
     },
     "execution_count": 45,
     "metadata": {},
     "output_type": "execute_result"
    }
   ],
   "source": [
    "[\n",
    "    type(tweet)\n",
    "    for tweet in tweets\n",
    "]"
   ]
  },
  {
   "cell_type": "markdown",
   "metadata": {},
   "source": [
    "Import the `json` library."
   ]
  },
  {
   "cell_type": "code",
   "execution_count": 46,
   "metadata": {},
   "outputs": [],
   "source": [
    "import json"
   ]
  },
  {
   "cell_type": "markdown",
   "metadata": {},
   "source": [
    "Create an object called `tweets_string` using `json.dumps()`.\n",
    "\n",
    "Display the first 500 characters of this string. "
   ]
  },
  {
   "cell_type": "code",
   "execution_count": 52,
   "metadata": {},
   "outputs": [
    {
     "data": {
      "text/plain": [
       "'[{\"created_at\": \"Fri Jul 20 03:44:31 +0000 2018\", \"id\": 1020152447791181825, \"id_str\": \"1020152447791181825\", \"text\": \"Pre k-spa noms (@ Sun Ha Jang in Los Angeles, CA) https://t.co/EfHE8vTvpC\", \"source\": \"<a href=\\\\\"http://foursquare.com\\\\\" rel=\\\\\"nofollow\\\\\">Foursquare</a>\", \"truncated\": false, \"in_reply_to_status_id\": null, \"in_reply_to_status_id_str\": null, \"in_reply_to_user_id\": null, \"in_reply_to_user_id_str\": null, \"in_reply_to_screen_name\": null, \"user\": {\"id\": 26002770, \"id_str\": \"26002770\"'"
      ]
     },
     "execution_count": 52,
     "metadata": {},
     "output_type": "execute_result"
    }
   ],
   "source": [
    "tweets_string = json.dumps(tweets)\n",
    "tweets_string[:500]"
   ]
  },
  {
   "cell_type": "markdown",
   "metadata": {},
   "source": [
    "## Write Tweets to Disk\n",
    "\n",
    "Using this pattern\n",
    "\n",
    "    with open(filename_as_string, 'w') as outfile:\n",
    "        json.dump(python_object, outfile)\n",
    "        \n",
    "write `tweets` to disk as json."
   ]
  },
  {
   "cell_type": "code",
   "execution_count": 55,
   "metadata": {},
   "outputs": [],
   "source": [
    "with open('json_tweets', 'w') as outfile:\n",
    "    json.dump(tweets, outfile)"
   ]
  },
  {
   "cell_type": "markdown",
   "metadata": {},
   "source": [
    "## Read Tweets from Disk\n",
    "\n",
    "Using this pattern\n",
    "\n",
    "    with open(filename_as_string) as infile:\n",
    "        json_data=infile.read()\n",
    "        python_object_from_disk = json.loads(json_data)\n",
    "        \n",
    "read the tweets from the json. Store them as `tweets_from_disk`."
   ]
  },
  {
   "cell_type": "code",
   "execution_count": 57,
   "metadata": {},
   "outputs": [],
   "source": [
    "with open('json_tweets') as infile:\n",
    "    json_data=infile.read()\n",
    "    tweets_from_disk = json.loads(json_data)"
   ]
  },
  {
   "cell_type": "markdown",
   "metadata": {},
   "source": [
    "Display `tweets_from_disk` as a DataFrame."
   ]
  },
  {
   "cell_type": "code",
   "execution_count": 59,
   "metadata": {},
   "outputs": [],
   "source": [
    "tweets_from_disk_df = pd.DataFrame(tweets_from_disk)"
   ]
  },
  {
   "cell_type": "code",
   "execution_count": 61,
   "metadata": {},
   "outputs": [
    {
     "data": {
      "text/plain": [
       "'Pre k-spa noms (@ Sun Ha Jang in Los Angeles, CA) https://t.co/EfHE8vTvpC'"
      ]
     },
     "execution_count": 61,
     "metadata": {},
     "output_type": "execute_result"
    }
   ],
   "source": [
    "tweets_from_disk_df['text'][0]"
   ]
  },
  {
   "cell_type": "code",
   "execution_count": null,
   "metadata": {},
   "outputs": [],
   "source": []
  }
 ],
 "metadata": {
  "kernelspec": {
   "display_name": "Python 3",
   "language": "python",
   "name": "python3"
  },
  "language_info": {
   "codemirror_mode": {
    "name": "ipython",
    "version": 3
   },
   "file_extension": ".py",
   "mimetype": "text/x-python",
   "name": "python",
   "nbconvert_exporter": "python",
   "pygments_lexer": "ipython3",
   "version": "3.6.5"
  }
 },
 "nbformat": 4,
 "nbformat_minor": 2
}
